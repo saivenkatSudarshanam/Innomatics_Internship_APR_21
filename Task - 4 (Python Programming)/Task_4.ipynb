{
 "cells": [
  {
   "cell_type": "markdown",
   "metadata": {},
   "source": [
    "# sWAP cASE\n",
    "\n"
   ]
  },
  {
   "cell_type": "code",
   "execution_count": 3,
   "metadata": {},
   "outputs": [
    {
     "name": "stdout",
     "output_type": "stream",
     "text": [
      "Hi! Iam saiVenkat\n",
      "hI! iAM SAIvENKAT\n"
     ]
    }
   ],
   "source": [
    "def swap_case(s):\n",
    "    swapped=s.swapcase()\n",
    "    return swapped\n",
    "\n",
    "if __name__ == '__main__':\n",
    "    s = input()\n",
    "    result = swap_case(s)\n",
    "    print(result)"
   ]
  },
  {
   "cell_type": "markdown",
   "metadata": {},
   "source": [
    "# String Split and Join"
   ]
  },
  {
   "cell_type": "code",
   "execution_count": 4,
   "metadata": {},
   "outputs": [
    {
     "name": "stdout",
     "output_type": "stream",
     "text": [
      "Hi this is sai venkat sudarshanam\n",
      "Hi-this-is-sai-venkat-sudarshanam\n"
     ]
    }
   ],
   "source": [
    "def split_and_join(line):\n",
    "    # write your code here\n",
    "    splitting = line.split(\" \")\n",
    "    joining =\"-\".join(splitting)\n",
    "    return joining\n",
    "\n",
    "if __name__ == '__main__':\n",
    "    line = input()\n",
    "    result = split_and_join(line)\n",
    "    print(result)"
   ]
  },
  {
   "cell_type": "markdown",
   "metadata": {},
   "source": [
    "# What's Your Name?\n",
    "\n"
   ]
  },
  {
   "cell_type": "code",
   "execution_count": 6,
   "metadata": {},
   "outputs": [
    {
     "name": "stdout",
     "output_type": "stream",
     "text": [
      "saivenkat\n",
      "sudarshanam\n",
      "Hello saivenkat sudarshanam! You just delved into python.\n"
     ]
    }
   ],
   "source": [
    "# Complete the 'print_full_name' function below.\n",
    "# The function is expected to return a STRING.\n",
    "# The function accepts following parameters:\n",
    "#  1. STRING first\n",
    "#  2. STRING last\n",
    "#\n",
    "\n",
    "def print_full_name(first, last):\n",
    "    # Write your code here\n",
    "    det = print(\"Hello {} {}! You just delved into python.\".format(first,last))\n",
    "    return det\n",
    "\n",
    "if __name__ == '__main__':\n",
    "    first_name = input()\n",
    "    last_name = input()\n",
    "    print_full_name(first_name, last_name)"
   ]
  },
  {
   "cell_type": "markdown",
   "metadata": {},
   "source": [
    "# Mutations"
   ]
  },
  {
   "cell_type": "code",
   "execution_count": 7,
   "metadata": {},
   "outputs": [
    {
     "name": "stdout",
     "output_type": "stream",
     "text": [
      "saivenkat\n",
      "5 e\n",
      "saiveekat\n"
     ]
    }
   ],
   "source": [
    "def mutate_string(string, position, character):\n",
    "    str1 = string\n",
    "    l = list(str1)\n",
    "    l[position]=character\n",
    "    str1 =''.join(l)\n",
    "    return str1\n",
    "\n",
    "if __name__ == '__main__':\n",
    "    s = input()\n",
    "    i, c = input().split()\n",
    "    s_new = mutate_string(s, int(i), c)\n",
    "    print(s_new)"
   ]
  },
  {
   "cell_type": "markdown",
   "metadata": {},
   "source": [
    "# Find a string"
   ]
  },
  {
   "cell_type": "code",
   "execution_count": 24,
   "metadata": {},
   "outputs": [
    {
     "name": "stdout",
     "output_type": "stream",
     "text": [
      "saivenen\n",
      "en\n",
      "2\n"
     ]
    }
   ],
   "source": [
    "def count_substring(string, sub_string):\n",
    "    count = 0\n",
    "    for i in range(len(string)):\n",
    "        if string[i:].startswith(sub_string):\n",
    "            count += 1\n",
    "    return count\n",
    "\n",
    "if __name__ == '__main__':\n",
    "    string = input().strip()\n",
    "    sub_string = input().strip()\n",
    "    \n",
    "    count = count_substring(string, sub_string)\n",
    "    print(count)"
   ]
  },
  {
   "cell_type": "markdown",
   "metadata": {},
   "source": [
    "# String Validators\n",
    "\n"
   ]
  },
  {
   "cell_type": "code",
   "execution_count": 34,
   "metadata": {},
   "outputs": [
    {
     "name": "stdout",
     "output_type": "stream",
     "text": [
      "Sai12\n",
      "True\n",
      "True\n",
      "True\n",
      "True\n",
      "True\n"
     ]
    }
   ],
   "source": [
    "s = input()\n",
    "print(any([i.isalnum() for i in s]))\n",
    "print(any([i.isalpha() for i in s]))   \n",
    "print(any([i.isdigit() for i in s]))\n",
    "print(any([i.islower() for i in s]))\n",
    "print(any([i.isupper() for i in s]))\n",
    "        "
   ]
  },
  {
   "cell_type": "markdown",
   "metadata": {},
   "source": [
    "# Text Alignment\n",
    "\n"
   ]
  },
  {
   "cell_type": "code",
   "execution_count": 39,
   "metadata": {},
   "outputs": [
    {
     "name": "stdout",
     "output_type": "stream",
     "text": [
      "10\n",
      "         H         \n",
      "        HHH        \n",
      "       HHHHH       \n",
      "      HHHHHHH      \n",
      "     HHHHHHHHH     \n",
      "    HHHHHHHHHHH    \n",
      "   HHHHHHHHHHHHH   \n",
      "  HHHHHHHHHHHHHHH  \n",
      " HHHHHHHHHHHHHHHHH \n",
      "HHHHHHHHHHHHHHHHHHH\n",
      "     HHHHHHHHHH                              HHHHHHHHHH                         \n",
      "     HHHHHHHHHH                              HHHHHHHHHH                         \n",
      "     HHHHHHHHHH                              HHHHHHHHHH                         \n",
      "     HHHHHHHHHH                              HHHHHHHHHH                         \n",
      "     HHHHHHHHHH                              HHHHHHHHHH                         \n",
      "     HHHHHHHHHH                              HHHHHHHHHH                         \n",
      "     HHHHHHHHHH                              HHHHHHHHHH                         \n",
      "     HHHHHHHHHH                              HHHHHHHHHH                         \n",
      "     HHHHHHHHHH                              HHHHHHHHHH                         \n",
      "     HHHHHHHHHH                              HHHHHHHHHH                         \n",
      "     HHHHHHHHHH                              HHHHHHHHHH                         \n",
      "     HHHHHHHHHHHHHHHHHHHHHHHHHHHHHHHHHHHHHHHHHHHHHHHHHH     \n",
      "     HHHHHHHHHHHHHHHHHHHHHHHHHHHHHHHHHHHHHHHHHHHHHHHHHH     \n",
      "     HHHHHHHHHHHHHHHHHHHHHHHHHHHHHHHHHHHHHHHHHHHHHHHHHH     \n",
      "     HHHHHHHHHHHHHHHHHHHHHHHHHHHHHHHHHHHHHHHHHHHHHHHHHH     \n",
      "     HHHHHHHHHHHHHHHHHHHHHHHHHHHHHHHHHHHHHHHHHHHHHHHHHH     \n",
      "     HHHHHHHHHH                              HHHHHHHHHH                         \n",
      "     HHHHHHHHHH                              HHHHHHHHHH                         \n",
      "     HHHHHHHHHH                              HHHHHHHHHH                         \n",
      "     HHHHHHHHHH                              HHHHHHHHHH                         \n",
      "     HHHHHHHHHH                              HHHHHHHHHH                         \n",
      "     HHHHHHHHHH                              HHHHHHHHHH                         \n",
      "     HHHHHHHHHH                              HHHHHHHHHH                         \n",
      "     HHHHHHHHHH                              HHHHHHHHHH                         \n",
      "     HHHHHHHHHH                              HHHHHHHHHH                         \n",
      "     HHHHHHHHHH                              HHHHHHHHHH                         \n",
      "     HHHHHHHHHH                              HHHHHHHHHH                         \n",
      "                                        HHHHHHHHHHHHHHHHHHH \n",
      "                                         HHHHHHHHHHHHHHHHH  \n",
      "                                          HHHHHHHHHHHHHHH   \n",
      "                                           HHHHHHHHHHHHH    \n",
      "                                            HHHHHHHHHHH     \n",
      "                                             HHHHHHHHH      \n",
      "                                              HHHHHHH       \n",
      "                                               HHHHH        \n",
      "                                                HHH         \n",
      "                                                 H          \n"
     ]
    }
   ],
   "source": [
    "#Replace all ______ with rjust, ljust or center. \n",
    "\n",
    "thickness = int(input()) #This must be an odd number\n",
    "c = 'H'\n",
    "\n",
    "#Top Cone\n",
    "for i in range(thickness):\n",
    "    print((c*i).rjust(thickness-1)+c+(c*i).ljust(thickness-1))\n",
    "\n",
    "#Top Pillars\n",
    "for i in range(thickness+1):\n",
    "    print((c*thickness).center(thickness*2)+(c*thickness).center(thickness*6))\n",
    "\n",
    "#Middle Belt\n",
    "for i in range((thickness+1)//2):\n",
    "    print((c*thickness*5).center(thickness*6))    \n",
    "\n",
    "#Bottom Pillars\n",
    "for i in range(thickness+1):\n",
    "    print((c*thickness).center(thickness*2)+(c*thickness).center(thickness*6))    \n",
    "\n",
    "#Bottom Cone\n",
    "for i in range(thickness):\n",
    "    print(((c*(thickness-i-1)).rjust(thickness)+c+(c*(thickness-i-1)).ljust(thickness)).rjust(thickness*6))"
   ]
  },
  {
   "cell_type": "markdown",
   "metadata": {},
   "source": [
    "# Text Wrap\n",
    "\n"
   ]
  },
  {
   "cell_type": "code",
   "execution_count": 41,
   "metadata": {},
   "outputs": [
    {
     "name": "stdout",
     "output_type": "stream",
     "text": [
      "Sudarshanam Sai Venkat is a Data scientist\n",
      "5\n",
      "Sudar\n",
      "shana\n",
      "m Sai\n",
      "Venka\n",
      "t is\n",
      "a\n",
      "Data \n",
      "scien\n",
      "tist\n"
     ]
    }
   ],
   "source": [
    "import textwrap\n",
    "\n",
    "def wrap(string, max_width):\n",
    "    str1 = string\n",
    "    return textwrap.fill(str1,max_width)\n",
    "\n",
    "if __name__ == '__main__':\n",
    "    string, max_width = input(), int(input())\n",
    "    result = wrap(string, max_width)\n",
    "    print(result)"
   ]
  },
  {
   "cell_type": "markdown",
   "metadata": {},
   "source": [
    "# Designer Door Mat"
   ]
  },
  {
   "cell_type": "code",
   "execution_count": 58,
   "metadata": {},
   "outputs": [
    {
     "name": "stdout",
     "output_type": "stream",
     "text": [
      "15 45\n",
      "---------------------.|.---------------------\n",
      "------------------.|..|..|.------------------\n",
      "---------------.|..|..|..|..|.---------------\n",
      "------------.|..|..|..|..|..|..|.------------\n",
      "---------.|..|..|..|..|..|..|..|..|.---------\n",
      "------.|..|..|..|..|..|..|..|..|..|..|.------\n",
      "---.|..|..|..|..|..|..|..|..|..|..|..|..|.---\n",
      "-------------------WELCOME-------------------\n",
      "---.|..|..|..|..|..|..|..|..|..|..|..|..|.---\n",
      "------.|..|..|..|..|..|..|..|..|..|..|.------\n",
      "---------.|..|..|..|..|..|..|..|..|.---------\n",
      "------------.|..|..|..|..|..|..|.------------\n",
      "---------------.|..|..|..|..|.---------------\n",
      "------------------.|..|..|.------------------\n",
      "---------------------.|.---------------------\n"
     ]
    }
   ],
   "source": [
    "if __name__ == '__main__':\n",
    "    N,M = map(int,input().split())\n",
    "    \n",
    "    for i in range(1,N,2):\n",
    "        print((\".|.\"*i).center(M,'-'))\n",
    "    print('WELCOME'.center(M,'-'))\n",
    "    for i in range(N-2,-1,-2):\n",
    "        print((\".|.\"*i).center(M,'-'))"
   ]
  },
  {
   "cell_type": "markdown",
   "metadata": {},
   "source": [
    "# String Formatting\n",
    "\n"
   ]
  },
  {
   "cell_type": "code",
   "execution_count": 61,
   "metadata": {},
   "outputs": [
    {
     "name": "stdout",
     "output_type": "stream",
     "text": [
      "30\n",
      "    1     1     1     1\n",
      "    2     2     2    10\n",
      "    3     3     3    11\n",
      "    4     4     4   100\n",
      "    5     5     5   101\n",
      "    6     6     6   110\n",
      "    7     7     7   111\n",
      "    8    10     8  1000\n",
      "    9    11     9  1001\n",
      "   10    12     A  1010\n",
      "   11    13     B  1011\n",
      "   12    14     C  1100\n",
      "   13    15     D  1101\n",
      "   14    16     E  1110\n",
      "   15    17     F  1111\n",
      "   16    20    10 10000\n",
      "   17    21    11 10001\n",
      "   18    22    12 10010\n",
      "   19    23    13 10011\n",
      "   20    24    14 10100\n",
      "   21    25    15 10101\n",
      "   22    26    16 10110\n",
      "   23    27    17 10111\n",
      "   24    30    18 11000\n",
      "   25    31    19 11001\n",
      "   26    32    1A 11010\n",
      "   27    33    1B 11011\n",
      "   28    34    1C 11100\n",
      "   29    35    1D 11101\n",
      "   30    36    1E 11110\n"
     ]
    }
   ],
   "source": [
    "def print_formatted(number):\n",
    "    # your code goes here\n",
    "    width = len(bin(number)[2:])\n",
    "    for i in range(1, number+1):\n",
    "        decimal = str(i)\n",
    "        octal = oct(i)[2:]\n",
    "        hexal = hex(i)[2:].upper()\n",
    "        binar = bin(i)[2:]\n",
    "\n",
    "        print(decimal.rjust(width),octal.rjust(width),hexal.rjust(width),binar.rjust(width))\n",
    "\n",
    "if __name__ == '__main__':\n",
    "    n = int(input())\n",
    "    print_formatted(n)"
   ]
  },
  {
   "cell_type": "markdown",
   "metadata": {},
   "source": [
    "# Alphabet Rangoli\n",
    "\n"
   ]
  },
  {
   "cell_type": "code",
   "execution_count": 63,
   "metadata": {},
   "outputs": [
    {
     "name": "stdout",
     "output_type": "stream",
     "text": [
      "5\n",
      "--------e--------\n",
      "------e-d-e------\n",
      "----e-d-c-d-e----\n",
      "--e-d-c-b-c-d-e--\n",
      "e-d-c-b-a-b-c-d-e\n",
      "--e-d-c-b-c-d-e--\n",
      "----e-d-c-d-e----\n",
      "------e-d-e------\n",
      "--------e--------\n",
      "6\n",
      "----------f----------\n",
      "--------f-e-f--------\n",
      "------f-e-d-e-f------\n",
      "----f-e-d-c-d-e-f----\n",
      "--f-e-d-c-b-c-d-e-f--\n",
      "f-e-d-c-b-a-b-c-d-e-f\n",
      "--f-e-d-c-b-c-d-e-f--\n",
      "----f-e-d-c-d-e-f----\n",
      "------f-e-d-e-f------\n",
      "--------f-e-f--------\n",
      "----------f----------\n"
     ]
    }
   ],
   "source": [
    "def print_rangoli(size):\n",
    "    alpha = \"abcdefghijklmnopqrstuvwxyz\"\n",
    "    data = [alpha[i] for i in range(n)]\n",
    "    items = list(range(n))\n",
    "    items = items[:-1]+items[::-1]\n",
    "    for i in items:\n",
    "        temp = data[-(i+1):]\n",
    "        row = temp[::-1]+temp[1:]\n",
    "        print(\"-\".join(row).center(n*4-3, \"-\"))\n",
    "if __name__ == '__main__':\n",
    "    n = int(input())\n",
    "    print_rangoli(n)\n",
    "if __name__ == '__main__':\n",
    "    n = int(input())\n",
    "    print_rangoli(n)"
   ]
  },
  {
   "cell_type": "markdown",
   "metadata": {},
   "source": [
    "# Capitalize!\n",
    "\n"
   ]
  },
  {
   "cell_type": "code",
   "execution_count": 80,
   "metadata": {},
   "outputs": [
    {
     "name": "stdout",
     "output_type": "stream",
     "text": [
      "sai venkat\n"
     ]
    }
   ],
   "source": [
    "import os\n",
    "import sys\n",
    "# Complete the solve function below.\n",
    "def solve(s):\n",
    "    l = s[:].split()\n",
    "    for x in l:\n",
    "        s = s.replace(x, x.capitalize())\n",
    "    return s\n",
    "os.environ['OUTPUT_PATH'] = 'E:\\innomatics labs/junk.txt'\n",
    "fptr = open(os.environ['OUTPUT_PATH'], 'w')\n",
    "s = input()\n",
    "result = solve(s)\n",
    "fptr.write(result + '\\n')\n",
    "fptr.close()\n",
    "\n",
    "    "
   ]
  },
  {
   "cell_type": "markdown",
   "metadata": {},
   "source": [
    "# The Minion Game"
   ]
  },
  {
   "cell_type": "code",
   "execution_count": 1,
   "metadata": {},
   "outputs": [
    {
     "name": "stdout",
     "output_type": "stream",
     "text": [
      "BANANA\n",
      "Stuart 12\n"
     ]
    }
   ],
   "source": [
    "def minion_game(string):\n",
    "    # your code goes here\n",
    "    Kevin = 0\n",
    "    Stuart = 0\n",
    "    word = list(string)\n",
    "    x = len(word)\n",
    "    vowels = ['A','E','I','O','U']\n",
    "    for inx, w in enumerate(word):\n",
    "        if w in vowels:\n",
    "            Kevin = Kevin + x\n",
    "        else:\n",
    "            Stuart = Stuart + x\n",
    "        x = x - 1\n",
    "    if Stuart > Kevin:\n",
    "        print ('Stuart', Stuart)\n",
    "    elif Kevin > Stuart:\n",
    "        print ('Kevin', Kevin)\n",
    "    else:\n",
    "        print ('Draw')\n",
    "\n",
    "\n",
    "if __name__ == '__main__':\n",
    "    s = input()\n",
    "    minion_game(s)\n"
   ]
  },
  {
   "cell_type": "markdown",
   "metadata": {},
   "source": [
    "# Merge The Tools\n"
   ]
  },
  {
   "cell_type": "code",
   "execution_count": 3,
   "metadata": {},
   "outputs": [
    {
     "name": "stdout",
     "output_type": "stream",
     "text": [
      "ABCDADA\n",
      "3\n",
      "ABC\n",
      "DA\n",
      "A\n"
     ]
    }
   ],
   "source": [
    "def merge_the_tools(string, k):\n",
    "    # your code goes here\n",
    "    splitNum = len(string)/k;\n",
    "    for i in range(0, len(string), k):\n",
    "        str = string[i:i+k];\n",
    "        sub = ''\n",
    "        for s in str:\n",
    "            if s not in sub:\n",
    "                sub += s;\n",
    "        print(sub);\n",
    "\n",
    "if __name__ == '__main__':\n",
    "    string, k = input(), int(input())\n",
    "    merge_the_tools(string, k)"
   ]
  }
 ],
 "metadata": {
  "kernelspec": {
   "display_name": "Python 3",
   "language": "python",
   "name": "python3"
  },
  "language_info": {
   "codemirror_mode": {
    "name": "ipython",
    "version": 3
   },
   "file_extension": ".py",
   "mimetype": "text/x-python",
   "name": "python",
   "nbconvert_exporter": "python",
   "pygments_lexer": "ipython3",
   "version": "3.8.3"
  }
 },
 "nbformat": 4,
 "nbformat_minor": 4
}
