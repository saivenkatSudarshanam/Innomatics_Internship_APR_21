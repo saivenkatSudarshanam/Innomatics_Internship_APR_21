{
 "cells": [
  {
   "cell_type": "markdown",
   "metadata": {},
   "source": [
    "# List Comprehensions"
   ]
  },
  {
   "cell_type": "markdown",
   "metadata": {},
   "source": [
    "Let's learn about list comprehensions! You are given three integers x,y,z epresenting the dimensions of a cuboid along with an integer n \n",
    "Print a list of all possible coordinates given by i,j,k on a 3D grid where the sum of i+j+k is not equal to n . Here 0<=i<=x,0<=j<=y,\n",
    "0<=k<=z.Please use list comprehensions rather than multiple loops, as a learning"
   ]
  },
  {
   "cell_type": "code",
   "execution_count": 1,
   "metadata": {},
   "outputs": [
    {
     "name": "stdout",
     "output_type": "stream",
     "text": [
      "1\n",
      "1\n",
      "1\n",
      "2\n",
      "[[0, 0, 0], [0, 0, 1], [0, 1, 0], [1, 0, 0], [1, 1, 1]]\n"
     ]
    }
   ],
   "source": [
    "x = int(input())\n",
    "y = int(input())\n",
    "z = int(input())\n",
    "n = int(input())   \n",
    "result = [[i,j,k] for i in range(x+1) for j in range(y+1) for k in range(z+1) if i+j+k != n]\n",
    "print(result)"
   ]
  },
  {
   "cell_type": "markdown",
   "metadata": {},
   "source": [
    "# Find the Runner-Up Score!"
   ]
  },
  {
   "cell_type": "markdown",
   "metadata": {},
   "source": [
    "Given the participants' score sheet for your University Sports Day, you are required to find the runner-up score. You are given  scores. Store them in a list and find the score of the runner-up."
   ]
  },
  {
   "cell_type": "code",
   "execution_count": 2,
   "metadata": {},
   "outputs": [
    {
     "name": "stdout",
     "output_type": "stream",
     "text": [
      "6\n",
      "9 8 7 1 2 6\n",
      "8\n"
     ]
    }
   ],
   "source": [
    "if __name__ == '__main__':\n",
    "    n = int(input())\n",
    "    arr = map(int, input().split())\n",
    "    arr = list(set(list(arr)))\n",
    "    b= len(arr)\n",
    "    arr = sorted(arr)\n",
    "    print(arr[b-2])  "
   ]
  },
  {
   "cell_type": "markdown",
   "metadata": {},
   "source": [
    "# Nested Lists"
   ]
  },
  {
   "cell_type": "markdown",
   "metadata": {},
   "source": [
    "Given the names and grades for each student in a class of N students, store them in a nested list and print the name(s) of any student(s) having the second lowest grade.\n",
    "Note: If there are multiple students with the second lowest grade, order their names alphabetically and print each name on a new line."
   ]
  },
  {
   "cell_type": "code",
   "execution_count": 12,
   "metadata": {},
   "outputs": [
    {
     "name": "stdout",
     "output_type": "stream",
     "text": [
      "5\n",
      "sai\n",
      "97.5\n",
      "venkat\n",
      "97.8\n",
      "sanju\n",
      "95.6\n",
      "sandu\n",
      "94.5\n",
      "sandeep\n",
      "92.5\n",
      "sandu\n"
     ]
    }
   ],
   "source": [
    "if __name__ == '__main__':\n",
    "    score_list= []\n",
    "    for _ in range(int(input())):\n",
    "        name = input()\n",
    "        score = float(input())\n",
    "        score_list.append([name, score])\n",
    "    score_list.sort(key = lambda x:x[1])\n",
    "    names = []\n",
    "    lowest_score = score_list[0][1]\n",
    "    second_lowest = 0\n",
    "    for i in range(len(score_list)):\n",
    "        if score_list[i][1] > lowest_score and second_lowest == 0:\n",
    "            second_lowest = score_list[i][1]\n",
    "        if second_lowest != 0 and score_list[i][1] == second_lowest:\n",
    "            names.append(score_list[i][0])\n",
    "    names.sort()\n",
    "    for name in names:\n",
    "        print(name)"
   ]
  },
  {
   "cell_type": "code",
   "execution_count": null,
   "metadata": {},
   "outputs": [],
   "source": [
    "#Hackerranksubmitted code"
   ]
  },
  {
   "cell_type": "code",
   "execution_count": 8,
   "metadata": {},
   "outputs": [
    {
     "name": "stdout",
     "output_type": "stream",
     "text": [
      "5\n",
      "saive\n",
      "97.5\n",
      "venkat\n",
      "97.2\n",
      "sai\n",
      "85.5\n",
      "mahesh\n",
      "75.7\n",
      "sanju\n",
      "75.7\n",
      "sai\n"
     ]
    }
   ],
   "source": [
    "if __name__ == '__main__':\n",
    "    scores_list= []\n",
    "    for _ in range(int(input())):\n",
    "        name = input()\n",
    "        score = float(input())\n",
    "        scores_list.append([name,score])\n",
    "second_highestmarks = sorted(set([score for name,score in scores_list]))[1]\n",
    "print('\\n'.join(sorted([name for name,score in scores_list if score == second_highestmarks])))       "
   ]
  },
  {
   "cell_type": "markdown",
   "metadata": {},
   "source": [
    "# Finding the percentage"
   ]
  },
  {
   "cell_type": "markdown",
   "metadata": {},
   "source": [
    "The provided code stub will read in a dictionary containing key/value pairs of name:[marks] for a list of students. Print the average of the marks array for the student name provided, showing 2 places after the decimal."
   ]
  },
  {
   "cell_type": "code",
   "execution_count": 14,
   "metadata": {},
   "outputs": [
    {
     "name": "stdout",
     "output_type": "stream",
     "text": [
      "3\n",
      "sai 95 96 94\n",
      "venkat 99 98 97\n",
      "sanju 100 98 96\n",
      "venkat\n",
      "98.00\n"
     ]
    }
   ],
   "source": [
    "if __name__ == '__main__':\n",
    "    n = int(input())\n",
    "    student_marks = {}\n",
    "    for _ in range(n):\n",
    "        name, *line = input().split()\n",
    "        scores = list(map(float, line))\n",
    "        student_marks[name] = scores\n",
    "    query_name = input()\n",
    "    print(\"{0:.2f}\".format(round(sum(student_marks[query_name]) / len(student_marks[query_name]), 2)))"
   ]
  },
  {
   "cell_type": "markdown",
   "metadata": {},
   "source": [
    "# Lists"
   ]
  },
  {
   "cell_type": "markdown",
   "metadata": {},
   "source": [
    "Initialize your list and read in the value of n followed by n lines of commands where each command will be of the 7 types listed above. Iterate through each command in order and perform the corresponding operation on your list."
   ]
  },
  {
   "cell_type": "code",
   "execution_count": 15,
   "metadata": {},
   "outputs": [
    {
     "name": "stdout",
     "output_type": "stream",
     "text": [
      "13\n",
      "insert 0 2\n",
      "append 20\n",
      "insert 1 3\n",
      "insert 2 4\n",
      "insert 3 6\n",
      "pop\n",
      "print\n",
      "[2, 3, 4, 6]\n",
      "remove 2\n",
      "print\n",
      "[3, 4, 6]\n",
      "reverse\n",
      "print\n",
      "[6, 4, 3]\n",
      "insert 3 12\n",
      "print\n",
      "[6, 4, 3, 12]\n"
     ]
    }
   ],
   "source": [
    "if __name__ == '__main__':\n",
    "    N = int(input())\n",
    "    Lists=[]\n",
    "    for i in range(0,N):\n",
    "        cmd=input().split();\n",
    "        if cmd[0] == \"insert\":\n",
    "            Lists.insert(int(cmd[1]),int(cmd[2]))\n",
    "        elif cmd[0] == \"append\":\n",
    "            Lists.append(int(cmd[1]))\n",
    "        elif cmd[0] == \"pop\":\n",
    "            Lists.pop();\n",
    "        elif cmd[0] == \"print\":\n",
    "            print(Lists)\n",
    "        elif cmd[0] == \"remove\":\n",
    "            Lists.remove(int(cmd[1]))\n",
    "        elif cmd[0] == \"sort\":\n",
    "            Lists.sort();\n",
    "        else:\n",
    "            Lists.reverse();"
   ]
  },
  {
   "cell_type": "markdown",
   "metadata": {},
   "source": [
    "# Tuples"
   ]
  },
  {
   "cell_type": "markdown",
   "metadata": {},
   "source": [
    "Task\n",
    "Given an integer,n , and n space-separated integers as input, create a tuple,t , of those n integers. Then compute and print the result of\n",
    "hast(t).\n",
    "\n",
    "Note: hash() is one of the functions in the __builtins__ module, so it need not be imported."
   ]
  },
  {
   "cell_type": "code",
   "execution_count": 20,
   "metadata": {},
   "outputs": [
    {
     "name": "stdout",
     "output_type": "stream",
     "text": [
      "2\n",
      "1 2\n",
      "-3550055125485641917\n"
     ]
    }
   ],
   "source": [
    "if __name__ == '__main__':\n",
    "    n = int(input())\n",
    "    integer_list = map(int, input().split())\n",
    "    integer_tuple = tuple(integer_list)\n",
    "    print(hash(integer_tuple))"
   ]
  },
  {
   "cell_type": "markdown",
   "metadata": {},
   "source": [
    "# Introduction to Sets"
   ]
  },
  {
   "cell_type": "markdown",
   "metadata": {},
   "source": [
    "Task\n",
    "\n",
    "Now, let's use our knowledge of sets and help Mickey.\n",
    "\n",
    "Ms. Gabriel Williams is a botany professor at District College. One day, she asked her student Mickey to compute the average of all the plants with distinct heights in her greenhouse."
   ]
  },
  {
   "cell_type": "code",
   "execution_count": 22,
   "metadata": {},
   "outputs": [
    {
     "name": "stdout",
     "output_type": "stream",
     "text": [
      "6\n",
      "101 105 106 107 109 102\n",
      "105.0\n"
     ]
    }
   ],
   "source": [
    "def average(array):\n",
    "    # your code goes here\n",
    "    plants=set()\n",
    "    plants.update(array)\n",
    "    return  sum(plants)/len(plants)\n",
    "        \n",
    "if __name__ == '__main__':\n",
    "    n = int(input())\n",
    "    arr = list(map(int, input().split()))\n",
    "    result = average(arr)\n",
    "    print(result)"
   ]
  },
  {
   "cell_type": "markdown",
   "metadata": {},
   "source": [
    "# No Idea!"
   ]
  },
  {
   "cell_type": "markdown",
   "metadata": {},
   "source": [
    "There is an array of n integers. There are also 2 disjoint sets, A and B, each containing m integers. You like all the integers in set A and dislike all the integers in set B. Your initial happiness is 0. For each i integer in the array, if i belongs to a, you add 1 to your happiness. If i belongs to b, you add -1 to your happiness. Otherwise, your happiness does not change. Output your final happiness at the end."
   ]
  },
  {
   "cell_type": "code",
   "execution_count": 29,
   "metadata": {},
   "outputs": [
    {
     "name": "stdout",
     "output_type": "stream",
     "text": [
      "3 2\n",
      "1 2 3\n",
      "1 5 6\n",
      "6 5 1\n",
      "1\n"
     ]
    }
   ],
   "source": [
    "if __name__ == \"__main__\":\n",
    "    happiness = 0\n",
    "    n, m = map(int, input().strip().split(' '))\n",
    "    arr = list(map(int, input().strip().split(' ')))\n",
    "    \n",
    "    good = set(map(int, input().strip().split(' ')))\n",
    "    bad = set(map(int, input().strip().split(' ')))\n",
    "    \n",
    "    for el in arr:\n",
    "        if el in good:\n",
    "            happiness += 1\n",
    "        elif el in bad:\n",
    "            happiness -= 1\n",
    "    \n",
    "    print(happiness)"
   ]
  },
  {
   "cell_type": "markdown",
   "metadata": {},
   "source": [
    "# Symmetric Difference"
   ]
  },
  {
   "cell_type": "markdown",
   "metadata": {},
   "source": [
    "Given  sets of integers,M  and N, print their symmetric difference in ascending order. The term symmetric difference indicates those values that exist in either M or N but do not exist in both."
   ]
  },
  {
   "cell_type": "code",
   "execution_count": 30,
   "metadata": {},
   "outputs": [
    {
     "name": "stdout",
     "output_type": "stream",
     "text": [
      "5\n",
      "2 6 5 1 9\n",
      "5\n",
      "2 6 5 11 7\n",
      "1\n",
      "7\n",
      "9\n",
      "11\n"
     ]
    }
   ],
   "source": [
    "m = int(input())\n",
    "m_set = set(map(int, input().split()))\n",
    "n= int(input())\n",
    "n_set = set(map(int, input().split()))\n",
    "\n",
    "m_def = m_set.difference(n_set)\n",
    "n_def = n_set.difference(m_set)\n",
    "\n",
    "output = m_def.union(n_def)\n",
    "\n",
    "for i in sorted(list(output)):\n",
    "    print(i)"
   ]
  },
  {
   "cell_type": "markdown",
   "metadata": {},
   "source": [
    "# Set .add()\n",
    "\n"
   ]
  },
  {
   "cell_type": "markdown",
   "metadata": {},
   "source": [
    "Apply your knowledge of the .add() operation to help your friend Rupal.\n",
    "\n",
    "Rupal has a huge collection of country stamps. She decided to count the total number of distinct country stamps in her collection. She asked for your help. You pick the stamps one by one from a stack of N country stamps.\n",
    "\n",
    "Find the total number of distinct country stamps."
   ]
  },
  {
   "cell_type": "code",
   "execution_count": 33,
   "metadata": {},
   "outputs": [
    {
     "name": "stdout",
     "output_type": "stream",
     "text": [
      "5\n",
      "india\n",
      "usa\n",
      "india\n",
      "uk\n",
      "kore\n",
      "4\n"
     ]
    }
   ],
   "source": [
    "# Enter your code here. Read input from STDIN. Print output to STDOUT\n",
    "n = int(input())\n",
    "\n",
    "countries = set()\n",
    "\n",
    "for i in range(0,n):\n",
    "    countries.add(input())\n",
    "\n",
    "print(len(countries))"
   ]
  },
  {
   "cell_type": "markdown",
   "metadata": {},
   "source": [
    "# Set .discard(), .remove() & .pop()\n",
    "\n"
   ]
  },
  {
   "cell_type": "markdown",
   "metadata": {},
   "source": [
    "You have a non-empty  set 8, and you have to execute N commands given in N lines.\n",
    "\n",
    "The commands will be pop, remove and discard."
   ]
  },
  {
   "cell_type": "code",
   "execution_count": 37,
   "metadata": {},
   "outputs": [
    {
     "name": "stdout",
     "output_type": "stream",
     "text": [
      "9\n",
      "1 2 3 4 5 6 7 8 9\n",
      "10\n",
      "pop\n",
      "remove 9\n",
      "discard 9\n",
      "discard 7\n",
      "discard 6\n",
      "remove 3\n",
      "pop\n",
      "pop\n",
      "discard 1\n",
      "discard 2\n",
      "13\n"
     ]
    }
   ],
   "source": [
    "n = int(input())\n",
    "s = set(map(int,input().split()))\n",
    "number = int(input())\n",
    "for i in range(number):\n",
    "    ip = input().split()\n",
    "    if ip[0]==\"remove\":\n",
    "        s.remove(int(ip[1]))\n",
    "    elif ip[0]==\"discard\":\n",
    "        s.discard(int(ip[1]))\n",
    "    else :\n",
    "        s.pop()\n",
    "print(sum(list(s)))"
   ]
  },
  {
   "cell_type": "markdown",
   "metadata": {},
   "source": [
    "# Set .union() Operation\n",
    "\n"
   ]
  },
  {
   "cell_type": "markdown",
   "metadata": {},
   "source": [
    "The students of District College have subscriptions to English and French newspapers. Some students have subscribed only to English, some have subscribed to only French and some have subscribed to both newspapers.\n",
    "\n",
    "You are given two sets of student roll numbers. One set has subscribed to the English newspaper, and the other set is subscribed to the French newspaper. The same student could be in both sets. Your task is to find the total number of students who have subscribed to at least one newspaper."
   ]
  },
  {
   "cell_type": "code",
   "execution_count": 40,
   "metadata": {},
   "outputs": [
    {
     "name": "stdout",
     "output_type": "stream",
     "text": [
      "6\n",
      "1 2 6 5 9 11\n",
      "5\n",
      "9 12 14 16 15\n",
      "10\n"
     ]
    }
   ],
   "source": [
    "num1 = int(input())\n",
    "A = set(input().split());\n",
    "num2= int(input())\n",
    "B = set(input().split());\n",
    "C = A.union(B)\n",
    "print(len(C))"
   ]
  },
  {
   "cell_type": "markdown",
   "metadata": {},
   "source": [
    "# Set .intersection() Operation"
   ]
  },
  {
   "cell_type": "code",
   "execution_count": 41,
   "metadata": {},
   "outputs": [
    {
     "name": "stdout",
     "output_type": "stream",
     "text": [
      "6\n",
      "1 2 3 4 5 6\n",
      "7\n",
      "21 1 5 6 11 8 3\n",
      "4\n"
     ]
    }
   ],
   "source": [
    "num1 = int(input())\n",
    "A = set(input().split());\n",
    "num2= int(input())\n",
    "B = set(input().split());\n",
    "C = A.intersection(B)\n",
    "print(len(C))"
   ]
  },
  {
   "cell_type": "markdown",
   "metadata": {},
   "source": [
    "# Set .difference() Operation"
   ]
  },
  {
   "cell_type": "code",
   "execution_count": 42,
   "metadata": {},
   "outputs": [
    {
     "name": "stdout",
     "output_type": "stream",
     "text": [
      "6\n",
      "1 2 3 4 5 6\n",
      "7\n",
      "11 2 6 5 12 9 22\n",
      "3\n"
     ]
    }
   ],
   "source": [
    "num1 = int(input())\n",
    "A = set(input().split());\n",
    "num2= int(input())\n",
    "B = set(input().split());\n",
    "C = A.difference(B)\n",
    "print(len(C))"
   ]
  },
  {
   "cell_type": "markdown",
   "metadata": {},
   "source": [
    "# Set .symmetric_difference() Operation"
   ]
  },
  {
   "cell_type": "code",
   "execution_count": 43,
   "metadata": {},
   "outputs": [
    {
     "name": "stdout",
     "output_type": "stream",
     "text": [
      "6\n",
      "1 2 3 4 9 6\n",
      "7\n",
      "1 2 21 32 9 8 11\n",
      "7\n"
     ]
    }
   ],
   "source": [
    "num1 = int(input())\n",
    "A = set(input().split());\n",
    "num2= int(input())\n",
    "B = set(input().split());\n",
    "C = A.symmetric_difference(B)\n",
    "print(len(C))"
   ]
  },
  {
   "cell_type": "markdown",
   "metadata": {},
   "source": [
    "# Set Mutations\n",
    "\n"
   ]
  },
  {
   "cell_type": "code",
   "execution_count": 46,
   "metadata": {},
   "outputs": [
    {
     "name": "stdout",
     "output_type": "stream",
     "text": [
      " 16\n",
      "1 2 3 4 5 6 7 8 9 10 11 12 13 14 24 52\n",
      "4\n",
      "intersection_update 10\n",
      "2 3 5 6 8 9 1 4 7 11\n",
      "update 2\n",
      "55 66\n",
      "symmetric_difference_update 5\n",
      "22 7 35 62 58\n",
      "difference_update 7\n",
      "11 22 35 55 58 62 66\n",
      "38\n"
     ]
    }
   ],
   "source": [
    "len=int(input())\n",
    "s=set(map(int,input().split()))\n",
    "Num=int(input())\n",
    "\n",
    "for i in range(Num):\n",
    "    (A,B)=input().split()\n",
    "    s2=set(map(int,input().split()))\n",
    "    if A=='intersection_update':\n",
    "        s.intersection_update(s2)\n",
    "    elif A=='update':\n",
    "        s.update(s2)\n",
    "    elif A=='symmetric_difference_update':\n",
    "        s.symmetric_difference_update(s2)\n",
    "    elif A=='difference_update':\n",
    "        s.difference_update(s2)\n",
    "print(sum(s))"
   ]
  },
  {
   "cell_type": "markdown",
   "metadata": {},
   "source": [
    "# The Captain's Room\n",
    "\n"
   ]
  },
  {
   "cell_type": "code",
   "execution_count": 48,
   "metadata": {},
   "outputs": [
    {
     "name": "stdout",
     "output_type": "stream",
     "text": [
      "5\n",
      "1 2 3 6 5 4 4 2 5 3 6 1 6 5 3 2 4 1 2 5 1 4 3 6 8 4 3 1 5 6 2 \n",
      "8\n"
     ]
    }
   ],
   "source": [
    "n = int(input())\n",
    "room_num_list = list(map(int,input().split()))\n",
    "room_num_set = set(room_num_list)\n",
    "room_num_list_sum = sum(room_num_list)\n",
    "room_num_set_sum = sum(room_num_set) * n\n",
    "diff = room_num_set_sum - room_num_list_sum\n",
    "for i in room_num_set:\n",
    "    if diff == ((n-1)*i):\n",
    "        print(i)\n",
    "        break"
   ]
  },
  {
   "cell_type": "markdown",
   "metadata": {},
   "source": [
    "# Check Subset\n",
    "\n"
   ]
  },
  {
   "cell_type": "code",
   "execution_count": 51,
   "metadata": {},
   "outputs": [
    {
     "name": "stdout",
     "output_type": "stream",
     "text": [
      "1\n",
      "2\n",
      "1 2\n",
      "5\n",
      "1 2 3 4 5 6\n",
      "True\n"
     ]
    }
   ],
   "source": [
    "n = int(input())\n",
    "for i in range(n):\n",
    "    num1 = int(input())\n",
    "    A = set(input().split())\n",
    "    num2 = int(input())\n",
    "    B = set(input().split())\n",
    "    print(A.issubset(B))"
   ]
  },
  {
   "cell_type": "markdown",
   "metadata": {},
   "source": [
    "# Check Strict Superset\n",
    "\n"
   ]
  },
  {
   "cell_type": "code",
   "execution_count": 56,
   "metadata": {},
   "outputs": [
    {
     "name": "stdout",
     "output_type": "stream",
     "text": [
      "1 2 3 4 5 6 7 8 9 10\n",
      "2\n",
      "1 2 3 4 \n",
      "7 8\n",
      "True\n"
     ]
    }
   ],
   "source": [
    "setA = set(map(int, input().split()))\n",
    "strictSuperSet = True\n",
    "for i in range(int(input())):\n",
    "    setN = set(map(int, input().split()))\n",
    "    for n in setN:\n",
    "        if n not in setA:\n",
    "            strictSuperSet = False\n",
    "            break\n",
    "print(strictSuperSet)"
   ]
  }
 ],
 "metadata": {
  "kernelspec": {
   "display_name": "Python 3",
   "language": "python",
   "name": "python3"
  },
  "language_info": {
   "codemirror_mode": {
    "name": "ipython",
    "version": 3
   },
   "file_extension": ".py",
   "mimetype": "text/x-python",
   "name": "python",
   "nbconvert_exporter": "python",
   "pygments_lexer": "ipython3",
   "version": "3.8.3"
  }
 },
 "nbformat": 4,
 "nbformat_minor": 4
}
