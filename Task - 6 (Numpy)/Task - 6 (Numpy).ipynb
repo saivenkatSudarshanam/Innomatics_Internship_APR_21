{
 "cells": [
  {
   "cell_type": "markdown",
   "metadata": {},
   "source": [
    "# Arrays"
   ]
  },
  {
   "cell_type": "code",
   "execution_count": 12,
   "metadata": {},
   "outputs": [
    {
     "name": "stdout",
     "output_type": "stream",
     "text": [
      "1 2 3 4 5 6 7 8 9 -10\n",
      "[-10.   9.   8.   7.   6.   5.   4.   3.   2.   1.]\n"
     ]
    }
   ],
   "source": [
    "import numpy\n",
    "def arrays(arr):\n",
    "    # complete this function\n",
    "    # use numpy.array\n",
    "    numpyarr =numpy.array(arr[::-1],float)\n",
    "    return numpyarr\n",
    "    \n",
    "\n",
    "arr = input().strip().split(' ')\n",
    "result = arrays(arr)\n",
    "print(result)"
   ]
  },
  {
   "cell_type": "markdown",
   "metadata": {},
   "source": [
    "# Shape and Reshape"
   ]
  },
  {
   "cell_type": "code",
   "execution_count": 19,
   "metadata": {},
   "outputs": [
    {
     "name": "stdout",
     "output_type": "stream",
     "text": [
      "1 2 3 4 5 6 7 8 9\n",
      "[[1 2 3]\n",
      " [4 5 6]\n",
      " [7 8 9]]\n"
     ]
    }
   ],
   "source": [
    "import numpy\n",
    "arr = input().strip().split(' ')\n",
    "reshaped_3x3 = numpy.reshape(arr,(3,3))\n",
    "converted_array = reshaped_3x3.astype(int)\n",
    "print(converted_array)"
   ]
  },
  {
   "cell_type": "markdown",
   "metadata": {},
   "source": [
    "# Transpose and Flatten\n",
    "\n"
   ]
  },
  {
   "cell_type": "code",
   "execution_count": 72,
   "metadata": {},
   "outputs": [
    {
     "name": "stdout",
     "output_type": "stream",
     "text": [
      "5 4\n",
      "1 2 3 4\n",
      "5 6 7 8\n",
      "9 10 11 12\n",
      "13 14 15 16\n",
      "17 18 19 20\n",
      "[[ 1  5  9 13 17]\n",
      " [ 2  6 10 14 18]\n",
      " [ 3  7 11 15 19]\n",
      " [ 4  8 12 16 20]]\n",
      "[ 1  2  3  4  5  6  7  8  9 10 11 12 13 14 15 16 17 18 19 20]\n"
     ]
    }
   ],
   "source": [
    "import numpy\n",
    "N, M = map(int,input().split())\n",
    "l = []\n",
    "for i in range(N):\n",
    "    l.append(input().strip().split())\n",
    "num_array = numpy.array(l,dtype = int)\n",
    "print(num_array.transpose())\n",
    "print(num_array.flatten())\n"
   ]
  },
  {
   "cell_type": "markdown",
   "metadata": {},
   "source": [
    "# Concatenate\n",
    "\n"
   ]
  },
  {
   "cell_type": "code",
   "execution_count": 86,
   "metadata": {},
   "outputs": [
    {
     "name": "stdout",
     "output_type": "stream",
     "text": [
      "3 4 2\n",
      "1 2\n",
      "1 5\n",
      "3 6\n",
      "5 6\n",
      "6 5\n",
      "9 5\n",
      "3 2\n",
      "[[1 2]\n",
      " [1 5]\n",
      " [3 6]\n",
      " [5 6]\n",
      " [6 5]\n",
      " [9 5]\n",
      " [3 2]]\n"
     ]
    }
   ],
   "source": [
    "import numpy\n",
    "N,M,P = map(int,input().split())\n",
    "mat1 = []\n",
    "mat2 = []\n",
    "for i in range(N):\n",
    "    mat1.append(input().strip().split())\n",
    "for j in range(M):\n",
    "    mat2.append(input().strip().split())\n",
    "numpy_arr1 = numpy.array(mat1)\n",
    "arr1 = numpy_arr1.astype(int)\n",
    "numpy_arr2 = numpy.array(mat2)\n",
    "arr2 = numpy_arr2.astype(int)\n",
    "print(numpy.concatenate((arr1,arr2),axis=0))"
   ]
  },
  {
   "cell_type": "markdown",
   "metadata": {},
   "source": [
    "# Zeros and Ones\n",
    "\n"
   ]
  },
  {
   "cell_type": "code",
   "execution_count": 92,
   "metadata": {},
   "outputs": [
    {
     "name": "stdout",
     "output_type": "stream",
     "text": [
      "3 3 3\n",
      "[[[0 0 0]\n",
      "  [0 0 0]\n",
      "  [0 0 0]]\n",
      "\n",
      " [[0 0 0]\n",
      "  [0 0 0]\n",
      "  [0 0 0]]\n",
      "\n",
      " [[0 0 0]\n",
      "  [0 0 0]\n",
      "  [0 0 0]]]\n",
      "[[[1 1 1]\n",
      "  [1 1 1]\n",
      "  [1 1 1]]\n",
      "\n",
      " [[1 1 1]\n",
      "  [1 1 1]\n",
      "  [1 1 1]]\n",
      "\n",
      " [[1 1 1]\n",
      "  [1 1 1]\n",
      "  [1 1 1]]]\n"
     ]
    }
   ],
   "source": [
    "import numpy\n",
    "ones_zeros= tuple(map(int,input().split()))\n",
    "print(numpy.zeros(ones_zeros,dtype = int))\n",
    "print(numpy.ones(ones_zeros,dtype = int))"
   ]
  },
  {
   "cell_type": "code",
   "execution_count": 95,
   "metadata": {},
   "outputs": [
    {
     "name": "stdout",
     "output_type": "stream",
     "text": [
      "5 5\n",
      "[[ 1.  0.  0.  0.  0.]\n",
      " [ 0.  1.  0.  0.  0.]\n",
      " [ 0.  0.  1.  0.  0.]\n",
      " [ 0.  0.  0.  1.  0.]\n",
      " [ 0.  0.  0.  0.  1.]]\n"
     ]
    }
   ],
   "source": [
    "import numpy\n",
    "numpy.set_printoptions(legacy='1.13')\n",
    "N , M = map(int,input().split())\n",
    "print(numpy.eye(N,M))"
   ]
  },
  {
   "cell_type": "markdown",
   "metadata": {},
   "source": [
    "# Array Mathematics\n",
    "\n"
   ]
  },
  {
   "cell_type": "code",
   "execution_count": 100,
   "metadata": {},
   "outputs": [
    {
     "name": "stdout",
     "output_type": "stream",
     "text": [
      "1 4\n",
      "1 2 3 4\n",
      "6 3 9 8\n",
      "[[ 7  5 12 12]]\n",
      "[[-5 -1 -6 -4]]\n",
      "[[ 6  6 27 32]]\n",
      "[[0 0 0 0]]\n",
      "[[1 2 3 4]]\n",
      "[[    1     8 19683 65536]]\n"
     ]
    }
   ],
   "source": [
    "import numpy\n",
    "N, M  = map(int,input().split())\n",
    "arr1 = numpy.array([input().split() for i in range(N)],dtype = int)\n",
    "arr2 = numpy.array([input().split() for i in range(N)],dtype = int)\n",
    "print(arr1+arr2)\n",
    "print(arr1-arr2)\n",
    "print(arr1*arr2)\n",
    "print(arr1//arr2)\n",
    "print(arr1%arr2)\n",
    "print(arr1**arr2)"
   ]
  },
  {
   "cell_type": "markdown",
   "metadata": {},
   "source": [
    "# Floor, Ceil and Rint\n",
    "\n"
   ]
  },
  {
   "cell_type": "code",
   "execution_count": 105,
   "metadata": {},
   "outputs": [
    {
     "name": "stdout",
     "output_type": "stream",
     "text": [
      "1.1 2.2 3.3 4.4 5.5 6.6 7.7 9.8 8.9 10.5\n",
      "[  1.   2.   3.   4.   5.   6.   7.   9.   8.  10.]\n",
      "[  2.   3.   4.   5.   6.   7.   8.  10.   9.  11.]\n",
      "[  1.   2.   3.   4.   6.   7.   8.  10.   9.  10.]\n"
     ]
    }
   ],
   "source": [
    "import numpy\n",
    "numpy.set_printoptions(legacy='1.13')\n",
    "num_arr = list(map(float,input().strip().split()))\n",
    "print(numpy.floor(num_arr))\n",
    "print(numpy.ceil(num_arr))\n",
    "print(numpy.rint(num_arr))"
   ]
  },
  {
   "cell_type": "markdown",
   "metadata": {},
   "source": [
    "# Sum and Prod"
   ]
  },
  {
   "cell_type": "code",
   "execution_count": 110,
   "metadata": {},
   "outputs": [
    {
     "name": "stdout",
     "output_type": "stream",
     "text": [
      "2 3\n",
      "1 2 3\n",
      "4 5 6\n",
      "315\n"
     ]
    }
   ],
   "source": [
    "import numpy\n",
    "N ,M = map(int,input().split())\n",
    "nump_arr =numpy.array([input().split() for i in range(N)],dtype=int)\n",
    "summation =(numpy.sum(nump_arr,axis=0))\n",
    "print(numpy.prod(summation))"
   ]
  },
  {
   "cell_type": "markdown",
   "metadata": {},
   "source": [
    "# Min and Max\n",
    "\n"
   ]
  },
  {
   "cell_type": "code",
   "execution_count": 111,
   "metadata": {},
   "outputs": [
    {
     "name": "stdout",
     "output_type": "stream",
     "text": [
      "3 2\n",
      "1 2\n",
      "3 4\n",
      "5 6\n",
      "5\n"
     ]
    }
   ],
   "source": [
    "import numpy\n",
    "N,M = map(int,input().split())\n",
    "numm_arr = numpy.array([input().split() for i in range(N)],dtype = int)\n",
    "minimum =numpy.min(numm_arr,axis=1)\n",
    "print(numpy.max(minimum))"
   ]
  },
  {
   "cell_type": "markdown",
   "metadata": {},
   "source": [
    "# Mean, Var, and Std\n",
    "\n"
   ]
  },
  {
   "cell_type": "code",
   "execution_count": 8,
   "metadata": {},
   "outputs": [
    {
     "name": "stdout",
     "output_type": "stream",
     "text": [
      "2 2\n",
      "1 2\n",
      "3 4\n",
      "[1.5 3.5]\n",
      "[1. 1.]\n",
      "1.11803398875\n"
     ]
    }
   ],
   "source": [
    "import numpy \n",
    "N,M = map(int,input().split())\n",
    "numpp_arr = numpy.array([input().split() for i in range(N)],dtype=float)\n",
    "print(numpy.mean(numpp_arr,axis=1))\n",
    "print(numpy.var(numpp_arr,axis=0))\n",
    "print(round(numpy.std(numpp_arr,axis=None),11))"
   ]
  },
  {
   "cell_type": "markdown",
   "metadata": {},
   "source": [
    "# Dot and Cross\n",
    "\n"
   ]
  },
  {
   "cell_type": "code",
   "execution_count": 11,
   "metadata": {},
   "outputs": [
    {
     "name": "stdout",
     "output_type": "stream",
     "text": [
      "2\n",
      "1 2\n",
      "3 4\n",
      "1 2\n",
      "3 4\n",
      "[[ 7 10]\n",
      " [15 22]]\n"
     ]
    }
   ],
   "source": [
    "import numpy \n",
    "N = int(input())\n",
    "mat1 =numpy.array([input().split() for i in range(N)],dtype= int)\n",
    "mat2 =numpy.array([input().split() for i in range(N)],dtype= int)\n",
    "mulmat = numpy.dot(mat1,mat2)\n",
    "print(mulmat)"
   ]
  },
  {
   "cell_type": "markdown",
   "metadata": {},
   "source": [
    "# Inner and Outer\n",
    "\n"
   ]
  },
  {
   "cell_type": "code",
   "execution_count": 20,
   "metadata": {},
   "outputs": [
    {
     "name": "stdout",
     "output_type": "stream",
     "text": [
      "0 1\n",
      "2 3\n",
      "3\n",
      "[[0 0]\n",
      " [2 3]]\n"
     ]
    }
   ],
   "source": [
    "import numpy\n",
    "mat1_ele = input().split()\n",
    "mat2_ele = input().split()\n",
    "matr_1 = numpy.array(mat1_ele,dtype=int)\n",
    "matr_2 = numpy.array(mat2_ele,dtype =int)\n",
    "print(numpy.inner(matr_1,matr_2))\n",
    "print(numpy.outer(matr_1,matr_2))"
   ]
  },
  {
   "cell_type": "markdown",
   "metadata": {},
   "source": [
    "# Polynomials\n",
    "\n"
   ]
  },
  {
   "cell_type": "code",
   "execution_count": 26,
   "metadata": {},
   "outputs": [
    {
     "name": "stdout",
     "output_type": "stream",
     "text": [
      "1.5 2 3 4\n",
      "1\n",
      "10.5\n"
     ]
    }
   ],
   "source": [
    "import numpy\n",
    "coefficients = [float(i) for i in input().split()]\n",
    "x = float(input())\n",
    "poly_val = numpy.polyval(coefficients,x)\n",
    "print(poly_val)"
   ]
  },
  {
   "cell_type": "markdown",
   "metadata": {},
   "source": [
    "# Linear Algebra\n",
    "\n"
   ]
  },
  {
   "cell_type": "code",
   "execution_count": 4,
   "metadata": {},
   "outputs": [
    {
     "name": "stdout",
     "output_type": "stream",
     "text": [
      "2\n",
      "1.1 1.1\n",
      "1.1 1.1\n",
      "0.0\n"
     ]
    }
   ],
   "source": [
    "import numpy\n",
    "N= int(input())\n",
    "num_array = numpy.array([input().split() for i in range(N)],dtype = float)\n",
    "deter = round(numpy.linalg.det(num_array),2)\n",
    "print(deter)"
   ]
  },
  {
   "cell_type": "code",
   "execution_count": null,
   "metadata": {},
   "outputs": [],
   "source": []
  }
 ],
 "metadata": {
  "kernelspec": {
   "display_name": "Python 3",
   "language": "python",
   "name": "python3"
  },
  "language_info": {
   "codemirror_mode": {
    "name": "ipython",
    "version": 3
   },
   "file_extension": ".py",
   "mimetype": "text/x-python",
   "name": "python",
   "nbconvert_exporter": "python",
   "pygments_lexer": "ipython3",
   "version": "3.8.3"
  }
 },
 "nbformat": 4,
 "nbformat_minor": 4
}
